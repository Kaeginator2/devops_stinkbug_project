{
 "cells": [
  {
   "cell_type": "code",
   "execution_count": null,
   "metadata": {},
   "outputs": [],
   "source": []
  },
  {
   "cell_type": "code",
   "execution_count": null,
   "metadata": {},
   "outputs": [
    {
     "name": "stdout",
     "output_type": "stream",
     "text": [
      "[' ', ' ', ' ', ' ', ' ', ' ', ' ', ' ', ' ', ' ']\n",
      "[' ', ' ', ' ', ' ', ' ', ' ', ' ', ' ', ' ', ' ']\n",
      "[' ', ' ', ' ', ' ', ' ', ' ', ' ', ' ', ' ', ' ']\n",
      "[' ', ' ', ' ', ' ', ' ', ' ', ' ', ' ', ' ', ' ']\n",
      "[' ', ' ', ' ', ' ', ' ', ' ', ' ', ' ', ' ', ' ']\n",
      "[' ', ' ', ' ', ' ', ' ', ' ', ' ', ' ', ' ', ' ']\n",
      "[' ', ' ', ' ', ' ', ' ', ' ', ' ', ' ', ' ', ' ']\n",
      "[' ', ' ', ' ', ' ', ' ', ' ', ' ', ' ', ' ', ' ']\n",
      "[' ', ' ', ' ', ' ', ' ', ' ', ' ', ' ', ' ', ' ']\n",
      "[' ', ' ', ' ', ' ', ' ', ' ', ' ', ' ', ' ', ' ']\n",
      "Start point is: A2\n",
      "Enposition point is: B3\n"
     ]
    }
   ],
   "source": [
    "board = [[' ' for _ in range(10)] for _ in range(10)]\n",
    "print(*board, sep= \"\\n\")\n",
    "\n"
   ]
  },
  {
   "cell_type": "code",
   "execution_count": 31,
   "metadata": {},
   "outputs": [
    {
     "name": "stdout",
     "output_type": "stream",
     "text": [
      "[' ', ' ', ' ', ' ', ' ', ' ', ' ', ' ', ' ', ' ']\n",
      "[' ', ' ', ' ', ' ', ' ', ' ', ' ', ' ', ' ', ' ']\n",
      "[' ', ' ', ' ', ' ', ' ', ' ', ' ', ' ', ' ', ' ']\n",
      "[' ', ' ', ' ', ' ', ' ', ' ', ' ', ' ', ' ', ' ']\n",
      "[' ', ' ', ' ', ' ', ' ', ' ', ' ', ' ', ' ', ' ']\n",
      "[' ', ' ', ' ', ' ', ' ', ' ', ' ', ' ', ' ', ' ']\n",
      "[' ', ' ', ' ', ' ', ' ', ' ', ' ', ' ', ' ', ' ']\n",
      "[' ', ' ', ' ', ' ', ' ', ' ', ' ', ' ', ' ', ' ']\n",
      "[' ', ' ', ' ', ' ', ' ', ' ', ' ', ' ', ' ', ' ']\n",
      "[' ', ' ', ' ', ' ', ' ', ' ', ' ', ' ', ' ', ' ']\n",
      "Start point is: A1\n",
      "End position does not match the ship length of 2.\n",
      "End position is: B1\n",
      "Start point is: B3\n",
      "End position does not match the ship length of 3.\n",
      "End position is: B5\n",
      "Start point is: C1\n",
      "End position is: F1\n",
      "Start point is: J10\n",
      "End position does not match the ship length of 5.\n",
      "End position is: J6\n",
      "\n",
      "Board:\n",
      "['O', 'O', 'O', 'O', 'O', 'O', ' ', ' ', ' ', ' ']\n",
      "[' ', ' ', ' ', ' ', ' ', ' ', ' ', ' ', ' ', ' ']\n",
      "[' ', 'O', ' ', ' ', ' ', ' ', ' ', ' ', ' ', ' ']\n",
      "[' ', 'O', ' ', ' ', ' ', ' ', ' ', ' ', ' ', ' ']\n",
      "[' ', 'O', ' ', ' ', ' ', ' ', ' ', ' ', ' ', ' ']\n",
      "[' ', ' ', ' ', ' ', ' ', ' ', ' ', ' ', ' ', 'O']\n",
      "[' ', ' ', ' ', ' ', ' ', ' ', ' ', ' ', ' ', 'O']\n",
      "[' ', ' ', ' ', ' ', ' ', ' ', ' ', ' ', ' ', 'O']\n",
      "[' ', ' ', ' ', ' ', ' ', ' ', ' ', ' ', ' ', 'O']\n",
      "[' ', ' ', ' ', ' ', ' ', ' ', ' ', ' ', ' ', 'O']\n"
     ]
    }
   ],
   "source": [
    "def get_ship_pos(coordinat_system, s_len=5):\n",
    "    while True:\n",
    "        s_pos = input(f\"Starts with length {s_len} at: \").strip().upper()  # Entfernt Leerzeichen und macht Großbuchstaben\n",
    "        if len(s_pos) < 2:\n",
    "            print(\"Position too short! Please enter a coordinate like B3.\")\n",
    "            continue\n",
    "        \n",
    "        if s_pos[0] not in coordinat_system.keys():\n",
    "            print(\"Invalid column! Please use a letter between A and J.\")\n",
    "            continue\n",
    "\n",
    "        if not s_pos[1:].isdigit() or s_pos[1:] not in coordinat_system.keys():  # Prüft Zeilenbereich (1–10)\n",
    "            print(\"Invalid row! Please use a number between 1 and 10.\")\n",
    "            continue\n",
    "\n",
    "        break\n",
    "    print(f\"Start point is: {s_pos}\")\n",
    "\n",
    "    while True:\n",
    "        e_pos = input(f\"Ends with length {s_len} at: \").strip().upper()  # Entfernt Leerzeichen und macht Großbuchstaben\n",
    "        if len(e_pos) < 2:\n",
    "            print(\"Position too short! Please enter a coordinate like B3.\")\n",
    "            continue\n",
    "        \n",
    "        if e_pos[0] not in coordinat_system.keys():\n",
    "            print(\"Invalid column! Please use a letter between A and J.\")\n",
    "            continue\n",
    "\n",
    "        if not e_pos[1:].isdigit() or e_pos[1:] not in coordinat_system.keys():  # Prüft Zeilenbereich (1–10)\n",
    "            print(\"Invalid row! Please use a number between 1 and 10.\")\n",
    "            continue\n",
    "\n",
    "        # Prüfen, ob die Endposition zur Schiffslänge passt\n",
    "        col_diff = abs(coordinat_system[s_pos[0]] - coordinat_system[e_pos[0]])\n",
    "        row_diff = abs(coordinat_system[s_pos[1:]] - coordinat_system[e_pos[1:]])\n",
    "        \n",
    "        if not ((col_diff == s_len - 1 and row_diff == 0) or (row_diff == s_len - 1 and col_diff == 0)):\n",
    "            print(f\"End position does not match the ship length of {s_len}.\")\n",
    "            continue\n",
    "\n",
    "        break\n",
    "    print(f\"End position is: {e_pos}\")\n",
    "\n",
    "    return [s_pos, e_pos]\n",
    "\n",
    "\n",
    "def place_ship_on_board(board, coordinates, ship_positions):\n",
    "    s_pos, e_pos = ship_positions\n",
    "\n",
    "    # Start- und Endkoordinaten umwandeln\n",
    "    start_col = coordinates[s_pos[0]]\n",
    "    start_row = coordinates[s_pos[1:]]\n",
    "    end_col = coordinates[e_pos[0]]\n",
    "    end_row = coordinates[e_pos[1:]]\n",
    "\n",
    "    # Horizontal oder vertikal füllen\n",
    "    if start_row == end_row:  # Horizontal\n",
    "        for col in range(min(start_col, end_col), max(start_col, end_col) + 1):\n",
    "            board[start_row][col] = 'O'\n",
    "    elif start_col == end_col:  # Vertikal\n",
    "        for row in range(min(start_row, end_row), max(start_row, end_row) + 1):\n",
    "            board[row][start_col] = 'O'\n",
    "    else:\n",
    "        print(\"Error: Ship is not aligned properly.\")  # Sicherheitsprüfung (sollte nie auftreten)\n",
    "\n",
    "    return board\n",
    "\n",
    "\n",
    "board = [[' ' for _ in range(10)] for _ in range(10)]\n",
    "print(*board, sep= \"\\n\")\n",
    "\n",
    "coordinat_system = {\n",
    "        'A': 0, 'B': 1, 'C': 2, 'D': 3, 'E': 4,\n",
    "        'F': 5, 'G': 6, 'H': 7, 'I': 8, 'J': 9,\n",
    "        '1': 0, '2': 1, '3': 2, '4': 3, '5': 4,\n",
    "        '6': 5, '7': 6, '8': 7, '9': 8, '10': 9\n",
    "    }\n",
    "ship_length = [2,3,4,5]\n",
    "for ship in ship_length:\n",
    "    ship_positions = get_ship_pos(coordinat_system, s_len=ship)\n",
    "    place_ship_on_board(board, coordinat_system, ship_positions)\n",
    "\n",
    "\n",
    "# Board anzeigen\n",
    "print(\"\\nBoard:\")\n",
    "print(*board, sep= \"\\n\")"
   ]
  },
  {
   "cell_type": "code",
   "execution_count": null,
   "metadata": {},
   "outputs": [
    {
     "data": {
      "text/plain": [
       "'1'"
      ]
     },
     "execution_count": 28,
     "metadata": {},
     "output_type": "execute_result"
    }
   ],
   "source": []
  },
  {
   "cell_type": "code",
   "execution_count": null,
   "metadata": {},
   "outputs": [],
   "source": []
  },
  {
   "cell_type": "code",
   "execution_count": null,
   "metadata": {},
   "outputs": [],
   "source": []
  }
 ],
 "metadata": {
  "kernelspec": {
   "display_name": ".venv",
   "language": "python",
   "name": "python3"
  },
  "language_info": {
   "codemirror_mode": {
    "name": "ipython",
    "version": 3
   },
   "file_extension": ".py",
   "mimetype": "text/x-python",
   "name": "python",
   "nbconvert_exporter": "python",
   "pygments_lexer": "ipython3",
   "version": "3.11.9"
  }
 },
 "nbformat": 4,
 "nbformat_minor": 2
}
