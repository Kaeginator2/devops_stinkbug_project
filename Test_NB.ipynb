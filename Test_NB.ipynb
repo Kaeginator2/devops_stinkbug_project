{
 "cells": [
  {
   "cell_type": "code",
   "execution_count": null,
   "metadata": {},
   "outputs": [],
   "source": []
  },
  {
   "cell_type": "code",
   "execution_count": null,
   "metadata": {},
   "outputs": [
    {
     "name": "stdout",
     "output_type": "stream",
     "text": [
      "[' ', ' ', ' ', ' ', ' ', ' ', ' ', ' ', ' ', ' ']\n",
      "[' ', ' ', ' ', ' ', ' ', ' ', ' ', ' ', ' ', ' ']\n",
      "[' ', ' ', ' ', ' ', ' ', ' ', ' ', ' ', ' ', ' ']\n",
      "[' ', ' ', ' ', ' ', ' ', ' ', ' ', ' ', ' ', ' ']\n",
      "[' ', ' ', ' ', ' ', ' ', ' ', ' ', ' ', ' ', ' ']\n",
      "[' ', ' ', ' ', ' ', ' ', ' ', ' ', ' ', ' ', ' ']\n",
      "[' ', ' ', ' ', ' ', ' ', ' ', ' ', ' ', ' ', ' ']\n",
      "[' ', ' ', ' ', ' ', ' ', ' ', ' ', ' ', ' ', ' ']\n",
      "[' ', ' ', ' ', ' ', ' ', ' ', ' ', ' ', ' ', ' ']\n",
      "[' ', ' ', ' ', ' ', ' ', ' ', ' ', ' ', ' ', ' ']\n",
      "Start point is: A2\n",
      "Enposition point is: B3\n"
     ]
    }
   ],
   "source": [
    "board = [[' ' for _ in range(10)] for _ in range(10)]\n",
    "print(*board, sep= \"\\n\")\n",
    "\n"
   ]
  },
  {
   "cell_type": "code",
   "execution_count": null,
   "metadata": {},
   "outputs": [
    {
     "name": "stdout",
     "output_type": "stream",
     "text": [
      "[' ', ' ', ' ', ' ', ' ', ' ', ' ', ' ', ' ', ' ']\n",
      "[' ', ' ', ' ', ' ', ' ', ' ', ' ', ' ', ' ', ' ']\n",
      "[' ', ' ', ' ', ' ', ' ', ' ', ' ', ' ', ' ', ' ']\n",
      "[' ', ' ', ' ', ' ', ' ', ' ', ' ', ' ', ' ', ' ']\n",
      "[' ', ' ', ' ', ' ', ' ', ' ', ' ', ' ', ' ', ' ']\n",
      "[' ', ' ', ' ', ' ', ' ', ' ', ' ', ' ', ' ', ' ']\n",
      "[' ', ' ', ' ', ' ', ' ', ' ', ' ', ' ', ' ', ' ']\n",
      "[' ', ' ', ' ', ' ', ' ', ' ', ' ', ' ', ' ', ' ']\n",
      "[' ', ' ', ' ', ' ', ' ', ' ', ' ', ' ', ' ', ' ']\n",
      "[' ', ' ', ' ', ' ', ' ', ' ', ' ', ' ', ' ', ' ']\n",
      "Start point is: A1\n",
      "End position does not match the ship length of 2.\n",
      "End position is: B1\n",
      "Start point is: B3\n",
      "End position does not match the ship length of 3.\n",
      "End position is: B5\n",
      "Start point is: C1\n",
      "End position is: F1\n",
      "Start point is: J10\n",
      "End position does not match the ship length of 5.\n",
      "End position is: J6\n",
      "\n",
      "Board:\n",
      "['O', 'O', 'O', 'O', 'O', 'O', ' ', ' ', ' ', ' ']\n",
      "[' ', ' ', ' ', ' ', ' ', ' ', ' ', ' ', ' ', ' ']\n",
      "[' ', 'O', ' ', ' ', ' ', ' ', ' ', ' ', ' ', ' ']\n",
      "[' ', 'O', ' ', ' ', ' ', ' ', ' ', ' ', ' ', ' ']\n",
      "[' ', 'O', ' ', ' ', ' ', ' ', ' ', ' ', ' ', ' ']\n",
      "[' ', ' ', ' ', ' ', ' ', ' ', ' ', ' ', ' ', 'O']\n",
      "[' ', ' ', ' ', ' ', ' ', ' ', ' ', ' ', ' ', 'O']\n",
      "[' ', ' ', ' ', ' ', ' ', ' ', ' ', ' ', ' ', 'O']\n",
      "[' ', ' ', ' ', ' ', ' ', ' ', ' ', ' ', ' ', 'O']\n",
      "[' ', ' ', ' ', ' ', ' ', ' ', ' ', ' ', ' ', 'O']\n"
     ]
    }
   ],
   "source": [
    "def get_ship_pos(coordinat_system, s_len=5):\n",
    "    while True:\n",
    "        s_pos = input(f\"Starts with length {s_len} at: \").strip().upper()  # Entfernt Leerzeichen und macht Großbuchstaben\n",
    "        if len(s_pos) < 2:\n",
    "            print(\"Position too short! Please enter a coordinate like B3.\")\n",
    "            continue\n",
    "        \n",
    "        if s_pos[0] not in coordinat_system.keys():\n",
    "            print(\"Invalid column! Please use a letter between A and J.\")\n",
    "            continue\n",
    "\n",
    "        if not s_pos[1:].isdigit() or s_pos[1:] not in coordinat_system.keys():  # Prüft Zeilenbereich (1–10)\n",
    "            print(\"Invalid row! Please use a number between 1 and 10.\")\n",
    "            continue\n",
    "\n",
    "        break\n",
    "    print(f\"Start point is: {s_pos}\")\n",
    "\n",
    "    while True:\n",
    "        e_pos = input(f\"Ends with length {s_len} at: \").strip().upper()  # Entfernt Leerzeichen und macht Großbuchstaben\n",
    "        if len(e_pos) < 2:\n",
    "            print(\"Position too short! Please enter a coordinate like B3.\")\n",
    "            continue\n",
    "        \n",
    "        if e_pos[0] not in coordinat_system.keys():\n",
    "            print(\"Invalid column! Please use a letter between A and J.\")\n",
    "            continue\n",
    "\n",
    "        if not e_pos[1:].isdigit() or e_pos[1:] not in coordinat_system.keys():  # Prüft Zeilenbereich (1–10)\n",
    "            print(\"Invalid row! Please use a number between 1 and 10.\")\n",
    "            continue\n",
    "\n",
    "        # Prüfen, ob die Endposition zur Schiffslänge passt\n",
    "        col_diff = abs(coordinat_system[s_pos[0]] - coordinat_system[e_pos[0]])\n",
    "        row_diff = abs(coordinat_system[s_pos[1:]] - coordinat_system[e_pos[1:]])\n",
    "        \n",
    "        if not ((col_diff == s_len - 1 and row_diff == 0) or (row_diff == s_len - 1 and col_diff == 0)):\n",
    "            print(f\"End position does not match the ship length of {s_len}.\")\n",
    "            continue\n",
    "\n",
    "        break\n",
    "    print(f\"End position is: {e_pos}\")\n",
    "\n",
    "    return [s_pos, e_pos]\n",
    "\n",
    "\n",
    "def place_ship_on_board(board, coordinates, ship_positions):\n",
    "    s_pos, e_pos = ship_positions\n",
    "\n",
    "    # Start- und Endkoordinaten umwandeln\n",
    "    start_col = coordinates[s_pos[0]]\n",
    "    start_row = coordinates[s_pos[1:]]\n",
    "    end_col = coordinates[e_pos[0]]\n",
    "    end_row = coordinates[e_pos[1:]]\n",
    "\n",
    "    # Horizontal oder vertikal füllen\n",
    "    if start_row == end_row:  # Horizontal\n",
    "        for col in range(min(start_col, end_col), max(start_col, end_col) + 1):\n",
    "            board[start_row][col] = 'O'\n",
    "    elif start_col == end_col:  # Vertikal\n",
    "        for row in range(min(start_row, end_row), max(start_row, end_row) + 1):\n",
    "            board[row][start_col] = 'O'\n",
    "    else:\n",
    "        print(\"Error: Ship is not aligned properly.\")  # Sicherheitsprüfung (sollte nie auftreten)\n",
    "\n",
    "    return board\n",
    "\n",
    "\n",
    "board = [[' ' for _ in range(10)] for _ in range(10)]\n",
    "print(*board, sep= \"\\n\")\n",
    "\n",
    "coordinat_system = {\n",
    "        'A': 0, 'B': 1, 'C': 2, 'D': 3, 'E': 4,\n",
    "        'F': 5, 'G': 6, 'H': 7, 'I': 8, 'J': 9,\n",
    "        '1': 0, '2': 1, '3': 2, '4': 3, '5': 4,\n",
    "        '6': 5, '7': 6, '8': 7, '9': 8, '10': 9\n",
    "    }\n",
    "ship_length = [2,3,4,5]\n",
    "for ship in ship_length:\n",
    "    ship_positions = get_ship_pos(coordinat_system, s_len=ship)\n",
    "    place_ship_on_board(board, coordinat_system, ship_positions)\n",
    "\n",
    "\n",
    "# Board anzeigen\n",
    "print(\"\\nBoard:\")\n",
    "print(*board, sep= \"\\n\")\n",
    "\n",
    "loc = {\n",
    "    'A1': 2,\n",
    "    'A2': 2,\n",
    "    ...,\n",
    "    'J9': 0,\n",
    "    'J10':0\n",
    "\n",
    "}"
   ]
  },
  {
   "cell_type": "code",
   "execution_count": null,
   "metadata": {},
   "outputs": [
    {
     "data": {
      "text/plain": [
       "'1'"
      ]
     },
     "execution_count": 28,
     "metadata": {},
     "output_type": "execute_result"
    }
   ],
   "source": []
  },
  {
   "cell_type": "code",
   "execution_count": null,
   "metadata": {},
   "outputs": [],
   "source": []
  },
  {
   "cell_type": "code",
   "execution_count": 14,
   "metadata": {},
   "outputs": [
    {
     "name": "stdout",
     "output_type": "stream",
     "text": [
      "'A1': 'O','A2': 'O','A3': 'O','A4': 'O','A5': 'O','A6': 'O','A7': 'O','A8': 'O','A9': 'O','A10': 'O',\n",
      "'B1': 'O','B2': 'O','B3': 'O','B4': 'O','B5': 'O','B6': 'O','B7': 'O','B8': 'O','B9': 'O','B10': 'O',\n",
      "'C1': 'O','C2': 'O','C3': 'O','C4': 'O','C5': 'O','C6': 'O','C7': 'O','C8': 'O','C9': 'O','C10': 'O',\n",
      "'D1': 'O','D2': 'O','D3': 'O','D4': 'O','D5': 'O','D6': 'O','D7': 'O','D8': 'O','D9': 'O','D10': 'O',\n",
      "'E1': 'O','E2': 'O','E3': 'O','E4': 'O','E5': 'O','E6': 'O','E7': 'O','E8': 'O','E9': 'O','E10': 'O',\n",
      "'F1': 'O','F2': 'O','F3': 'O','F4': 'O','F5': 'O','F6': 'O','F7': 'O','F8': 'O','F9': 'O','F10': 'O',\n",
      "'G1': 'O','G2': 'O','G3': 'O','G4': 'O','G5': 'O','G6': 'O','G7': 'O','G8': 'O','G9': 'O','G10': 'O',\n",
      "'H1': 'O','H2': 'O','H3': 'O','H4': 'O','H5': 'O','H6': 'O','H7': 'O','H8': 'O','H9': 'O','H10': 'O',\n",
      "'I1': 'O','I2': 'O','I3': 'O','I4': 'O','I5': 'O','I6': 'O','I7': 'O','I8': 'O','I9': 'O','I10': 'O',\n",
      "'J1': 'O','J2': 'O','J3': 'O','J4': 'O','J5': 'O','J6': 'O','J7': 'O','J8': 'O','J9': 'O','J10': 'O',\n"
     ]
    }
   ],
   "source": [
    "letter = [\"abcdefghij\"]\n",
    "letters = [list(char.upper()) for char in letter]\n",
    "letters = letters[0]\n",
    "\n",
    "\n",
    "\n",
    "for letter in letters:\n",
    "    for number in range(1,11):\n",
    "        print(f\"'{str(letter) + str(number)}': 'O'\", end=\",\")\n",
    "    print(\"\\n\", end=\"\")"
   ]
  },
  {
   "cell_type": "code",
   "execution_count": null,
   "metadata": {},
   "outputs": [],
   "source": [
    "coordinates = {\n",
    "    'A1': 0,'A2': 0,'A3': 0,'A4': 0,'A5': 0,'A6': 0,'A7': 0,'A8': 0,'A9': 0,'A10': 0,\n",
    "    'B1': 0,'B2': 0,'B3': 0,'B4': 0,'B5': 0,'B6': 0,'B7': 0,'B8': 0,'B9': 0,'B10': 0,\n",
    "    'C1': 0,'C2': 0,'C3': 0,'C4': 0,'C5': 0,'C6': 0,'C7': 0,'C8': 0,'C9': 0,'C10': 0,\n",
    "    'D1': 0,'D2': 0,'D3': 0,'D4': 0,'D5': 0,'D6': 0,'D7': 0,'D8': 0,'D9': 0,'D10': 0,\n",
    "    'E1': 0,'E2': 0,'E3': 0,'E4': 0,'E5': 0,'E6': 0,'E7': 0,'E8': 0,'E9': 0,'E10': 0,\n",
    "    'F1': 0,'F2': 0,'F3': 0,'F4': 0,'F5': 0,'F6': 0,'F7': 0,'F8': 0,'F9': 0,'F10': 0,\n",
    "    'G1': 0,'G2': 0,'G3': 0,'G4': 0,'G5': 0,'G6': 0,'G7': 0,'G8': 0,'G9': 0,'G10': 0,\n",
    "    'H1': 0,'H2': 0,'H3': 0,'H4': 0,'H5': 0,'H6': 0,'H7': 0,'H8': 0,'H9': 0,'H10': 0,\n",
    "    'I1': 0,'I2': 0,'I3': 0,'I4': 0,'I5': 0,'I6': 0,'I7': 0,'I8': 0,'I9': 0,'I10': 0,\n",
    "    'J1': 0,'J2': 0,'J3': 0,'J4': 0,'J5': 0,'J6': 0,'J7': 0,'J8': 0,'J9': 0,'J10': 0}"
   ]
  },
  {
   "cell_type": "code",
   "execution_count": null,
   "metadata": {},
   "outputs": [],
   "source": []
  }
 ],
 "metadata": {
  "kernelspec": {
   "display_name": ".venv",
   "language": "python",
   "name": "python3"
  },
  "language_info": {
   "codemirror_mode": {
    "name": "ipython",
    "version": 3
   },
   "file_extension": ".py",
   "mimetype": "text/x-python",
   "name": "python",
   "nbconvert_exporter": "python",
   "pygments_lexer": "ipython3",
   "version": "3.11.9"
  }
 },
 "nbformat": 4,
 "nbformat_minor": 2
}
